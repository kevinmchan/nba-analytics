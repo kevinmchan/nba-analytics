{
 "cells": [
  {
   "cell_type": "markdown",
   "metadata": {},
   "source": [
    "# NBA Fantasy Lineup Optimization"
   ]
  },
  {
   "cell_type": "code",
   "execution_count": null,
   "metadata": {},
   "outputs": [],
   "source": [
    "import pandas as pd\n",
    "import numpy as np\n",
    "from itertools import combinations"
   ]
  },
  {
   "cell_type": "code",
   "execution_count": null,
   "metadata": {},
   "outputs": [],
   "source": [
    "pd.options.display.max_columns = 999\n",
    "pd.options.display.max_rows = 999\n",
    "pd.options.display.max_colwidth = -1\n",
    "pd.options.display.width = -1"
   ]
  },
  {
   "cell_type": "markdown",
   "metadata": {},
   "source": [
    "## Load data"
   ]
  },
  {
   "cell_type": "code",
   "execution_count": null,
   "metadata": {},
   "outputs": [],
   "source": [
    "current_week = \"23\"\n",
    "weekly_game_count = (\n",
    "    pd.read_csv(\"data/weekly_game_count.csv\")\n",
    "    .rename(columns={current_week: \"num_games\"})\n",
    ")"
   ]
  },
  {
   "cell_type": "code",
   "execution_count": null,
   "metadata": {},
   "outputs": [],
   "source": [
    "weekly_game_count.head()"
   ]
  },
  {
   "cell_type": "code",
   "execution_count": null,
   "metadata": {},
   "outputs": [],
   "source": [
    "boxscore_data = pd.read_parquet(\"data/basic_boxscore.parquet\")"
   ]
  },
  {
   "cell_type": "code",
   "execution_count": null,
   "metadata": {},
   "outputs": [],
   "source": [
    "# last 30 games played\n",
    "filtered_boxscore_data = (\n",
    "    boxscore_data\n",
    "    .loc[lambda x: x[\"mp\"].notnull()]\n",
    "    .sort_values(by=[\"player_link\", \"game_url\"], ascending=[True, False], inplace=False)\n",
    "    .assign(counter=lambda x: 1)\n",
    "    .assign(rank=lambda x: x.groupby([\"player_link\"])[\"counter\"].cumsum())\n",
    "    .loc[lambda x: x[\"rank\"].le(30)]\n",
    "    .assign(neg_to=lambda x: x[\"tov\"] * -1)\n",
    ")\n",
    "\n",
    "player_team = (\n",
    "    filtered_boxscore_data.loc[lambda x: x[\"rank\"].eq(1), [\"player_link\", \"team\"]]\n",
    ")\n",
    "\n",
    "filtered_boxscore_data = (\n",
    "    filtered_boxscore_data\n",
    "    .rename(columns={\"team\": \"game_team\"})\n",
    "    .merge(player_team, how=\"left\", on=[\"player_link\"])\n",
    "    .merge(weekly_game_count[[\"team\", \"num_games\"]], how=\"left\", on=[\"team\"])\n",
    ")"
   ]
  },
  {
   "cell_type": "code",
   "execution_count": null,
   "metadata": {},
   "outputs": [],
   "source": [
    "filtered_boxscore_data.head()"
   ]
  },
  {
   "cell_type": "markdown",
   "metadata": {},
   "source": [
    "## Simulate week's games"
   ]
  },
  {
   "cell_type": "code",
   "execution_count": null,
   "metadata": {},
   "outputs": [],
   "source": [
    "def resample_games(boxscore_data):\n",
    "    \"\"\"Randomly resample n number of games per player, \n",
    "    where n is the max of 'num_games' column for each player\n",
    "    \"\"\"\n",
    "    np.random.seed()\n",
    "    return boxscore_data.groupby([\"player_link\"]).apply(lambda x: x.iloc[np.random.randint(0, len(x), x[\"num_games\"].max())])"
   ]
  },
  {
   "cell_type": "code",
   "execution_count": null,
   "metadata": {},
   "outputs": [],
   "source": [
    "def avg_player_stats(boxscore_data):\n",
    "    stats = [\"ast\", \"blk\", \"fg\", \"fga\", \"fg3\", \"ft\", \"fta\", \"pts\", \"stl\", \"trb\", \"neg_to\"]\n",
    "    return boxscore_data.groupby([\"player\"])[stats].sum().reset_index()"
   ]
  },
  {
   "cell_type": "code",
   "execution_count": null,
   "metadata": {},
   "outputs": [],
   "source": [
    "def avg_stats(player_stats):\n",
    "    stats = [col for col in player_stats.columns if col != \"player\"]\n",
    "    total_stats = player_stats[stats].sum()\n",
    "    total_stats[\"fg_pct\"] = total_stats[\"fg\"] / total_stats[\"fga\"]\n",
    "    total_stats[\"ft_pct\"] = total_stats[\"ft\"] / total_stats[\"fta\"]\n",
    "    return total_stats"
   ]
  },
  {
   "cell_type": "code",
   "execution_count": null,
   "metadata": {},
   "outputs": [],
   "source": [
    "def which_categories_won(score, opponent_score):\n",
    "    stats = [\"ast\", \"blk\", \"fg_pct\", \"fg3\", \"ft_pct\", \"pts\", \"stl\", \"trb\", \"neg_to\"]\n",
    "    return (score[stats] > opponent_score[stats]).astype(int) + (score[stats] == opponent_score[stats]).astype(int) / 2"
   ]
  },
  {
   "cell_type": "code",
   "execution_count": null,
   "metadata": {},
   "outputs": [],
   "source": [
    "def categories_won(score, opponent_score):\n",
    "    stats = [\"ast\", \"blk\", \"fg_pct\", \"fg3\", \"ft_pct\", \"pts\", \"stl\", \"trb\", \"neg_to\"]\n",
    "    return (score[stats] > opponent_score[stats]).sum() + (score[stats] == opponent_score[stats]).sum() / 2"
   ]
  },
  {
   "cell_type": "code",
   "execution_count": null,
   "metadata": {},
   "outputs": [],
   "source": [
    "def simulated_result(data):\n",
    "    (boxscore_data, opponent_boxscore_data) = data\n",
    "    score = avg_stats(avg_player_stats(resample_games(boxscore_data)))  # simulated stats\n",
    "    opponent_score = avg_stats(avg_player_stats(resample_games(opponent_boxscore_data)))  # simulated opponent stats\n",
    "    return categories_won(score, opponent_score) >= 4.5"
   ]
  },
  {
   "cell_type": "code",
   "execution_count": null,
   "metadata": {},
   "outputs": [],
   "source": [
    "def simulated_categories(data):\n",
    "    (boxscore_data, opponent_boxscore_data) = data\n",
    "    score = avg_stats(avg_player_stats(resample_games(boxscore_data)))  # simulated stats\n",
    "    opponent_score = avg_stats(avg_player_stats(resample_games(opponent_boxscore_data)))  # simulated opponent stats\n",
    "    return which_categories_won(score, opponent_score)"
   ]
  },
  {
   "cell_type": "code",
   "execution_count": null,
   "metadata": {},
   "outputs": [],
   "source": [
    "opponent_players = [\n",
    "    \"Bogdan Bogdanovic\",\n",
    "    \"Tyreke Evans\",\n",
    "    \"Damian Lillard\",\n",
    "    \"Isaiah Thomas\",\n",
    "    \"LaMarcus Aldridge\",\n",
    "    \"Jarrett Allen\",\n",
    "    \"Clint Capela\",\n",
    "    \"Joel Embiid\",\n",
    "    \"Enes Kanter\",\n",
    "    \"Deandre Ayton\"\n",
    "]"
   ]
  },
  {
   "cell_type": "code",
   "execution_count": null,
   "metadata": {},
   "outputs": [],
   "source": [
    "available_players = [\n",
    "    \"Bradley Beal\",\n",
    "    \"Joe Ingles\",\n",
    "    \"Khris Middleton\",\n",
    "    \"Lou Williams\",\n",
    "    \"Giannis Antetokounmpo\",\n",
    "    \"Harrison Barnes\",\n",
    "    \"Bojan Bogdanovic\",\n",
    "    \"Thaddeus Young\", \n",
    "    \"Bobby Portis\",\n",
    "    \"Dwight Powell\",\n",
    "    \"Spencer Dinwiddie\",\n",
    "    \"Andrew Wiggins\",\n",
    "    \"Jerami Grant\",\n",
    "    \"Robin Lopez\"\n",
    "]"
   ]
  },
  {
   "cell_type": "code",
   "execution_count": null,
   "metadata": {},
   "outputs": [],
   "source": [
    "import multiprocessing\n",
    "pools = multiprocessing.Pool(processes=multiprocessing.cpu_count())"
   ]
  },
  {
   "cell_type": "code",
   "execution_count": null,
   "metadata": {},
   "outputs": [],
   "source": [
    "%%time\n",
    "n_trials = 100\n",
    "results = dict()\n",
    "opponent_boxscore_data = filtered_boxscore_data.loc[lambda x: x[\"player\"].isin(opponent_players)]\n",
    "for i, players in enumerate(combinations(available_players, 10)):\n",
    "    team_boxscore_data = filtered_boxscore_data.loc[lambda x: x[\"player\"].isin(players)]\n",
    "    result = sum(pools.map(simulated_result, ((team_boxscore_data, opponent_boxscore_data) for _ in range(n_trials)))) / n_trials\n",
    "    results[players] = result\n",
    "    print(f\"{i}, {players}: {result}\")"
   ]
  },
  {
   "cell_type": "code",
   "execution_count": null,
   "metadata": {},
   "outputs": [],
   "source": [
    "for (players, win_pct) in sorted(results.items(), key=lambda x: x[1], reverse=True)[:10]:\n",
    "    print(f\"{players}: {win_pct}\")"
   ]
  },
  {
   "cell_type": "code",
   "execution_count": null,
   "metadata": {},
   "outputs": [],
   "source": [
    "top_combos = [players for (players, win_pct) in sorted(results.items(), key=lambda x: x[1], reverse=True)[:10]]"
   ]
  },
  {
   "cell_type": "code",
   "execution_count": null,
   "metadata": {},
   "outputs": [],
   "source": [
    "%%time\n",
    "n_trials = 500\n",
    "top_results = dict()\n",
    "for i, players in enumerate(top_combos):\n",
    "    team_boxscore_data = filtered_boxscore_data.loc[lambda x: x[\"player\"].isin(players)]\n",
    "    result = sum(pools.map(simulated_result, ((team_boxscore_data, opponent_boxscore_data) for _ in range(n_trials)))) / n_trials\n",
    "    top_results[players] = result\n",
    "    print(f\"{i}, {players}: {result}\")"
   ]
  },
  {
   "cell_type": "code",
   "execution_count": null,
   "metadata": {},
   "outputs": [],
   "source": [
    "top_players = sorted(top_results.items(), key=lambda x: x[1], reverse=True)[0][0]; top_players"
   ]
  },
  {
   "cell_type": "code",
   "execution_count": null,
   "metadata": {},
   "outputs": [],
   "source": [
    "n_trials = 100\n",
    "team_boxscore_data = filtered_boxscore_data.loc[lambda x: x[\"player\"].isin(top_players)]\n",
    "sum(pools.map(simulated_categories, ((team_boxscore_data, opponent_boxscore_data) for _ in range(n_trials)))) / n_trials"
   ]
  }
 ],
 "metadata": {
  "kernelspec": {
   "display_name": "Python [conda env:nbaanalytics]",
   "language": "python",
   "name": "conda-env-nbaanalytics-py"
  },
  "language_info": {
   "codemirror_mode": {
    "name": "ipython",
    "version": 3
   },
   "file_extension": ".py",
   "mimetype": "text/x-python",
   "name": "python",
   "nbconvert_exporter": "python",
   "pygments_lexer": "ipython3",
   "version": "3.7.2"
  }
 },
 "nbformat": 4,
 "nbformat_minor": 2
}
